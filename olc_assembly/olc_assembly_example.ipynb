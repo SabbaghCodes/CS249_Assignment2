{
    "cells": [
     {
      "cell_type": "markdown",
      "metadata": {},
      "source": [
       "# Overlap-Layout-Consensus Genome Assembly\n",
       "\n",
       "This notebook demonstrates the usage of the OLC Assembly package for genome assembly from FASTQ files."
      ]
     },
     {
      "cell_type": "code",
      "execution_count": null,
      "metadata": {},
      "source": [
       "# Import necessary modules\n",
       "import sys\n",
       "import os\n",
       "import matplotlib.pyplot as plt\n",
       "from pathlib import Path\n",
       "\n",
       "# Make sure the package is in the Python path\n",
       "# Change this path to where you've placed the olc_assembly package\n",
       "sys.path.append('..')\n",
       "\n",
       "# Import modules from the package\n",
       "from olc_assembly.fastq_parser import FastqParser\n",
       "from olc_assembly.overlap_detector import OverlapDetector\n",
       "from olc_assembly.overlap_graph import OverlapGraph\n",
       "from olc_assembly.layout_generator import LayoutGenerator\n",
       "from olc_assembly.consensus_builder import ConsensusBuilder\n",
       "from olc_assembly.contig_generator import ContigGenerator\n",
       "from olc_assembly.fasta_writer import FastaWriter\n",
       "from olc_assembly.assembly_metrics import AssemblyMetrics\n",
       "from olc_assembly.visualize import Visualizer"
      ]
     },
     {
      "cell_type": "markdown",
      "metadata": {},
      "source": [
       "## 1. Load and Parse FASTQ Data\n",
       "\n",
       "Let's start by loading the FASTQ data from one of the synthetic datasets."
      ]
     },
     {
      "cell_type": "code",
      "execution_count": null,
      "metadata": {},
      "source": [
       "# Path to the FASTQ file\n",
       "fastq_file = \"path/to/reads_b.fastq\"\n",
       "\n",
       "# Parse the FASTQ file\n",
       "parser = FastqParser(fastq_file)\n",
       "reads = parser.parse_as_dict()\n",
       "\n",
       "print(f\"Loaded {len(reads)} reads\")\n",
       "print(f\"Example read: {list(reads.values())[0].sequence[:50]}...\")"
      ]
     },
     {
      "cell_type": "markdown",
      "metadata": {},
      "source": [
       "## 2. Find Overlaps Between Reads\n",
       "\n",
       "Next, we'll find the overlaps between reads."
      ]
     },
     {
      "cell_type": "code",
      "execution_count": null,
      "metadata": {},
      "source": [
       "# Define parameters for overlap detection\n",
       "min_overlap = 40  # Minimum overlap length\n",
       "max_error_rate = 0.05  # Maximum error rate (5%)\n",
       "\n",
       "# Create overlap detector\n",
       "overlap_detector = OverlapDetector(min_overlap, max_error_rate)\n",
       "\n",
       "# Compute all pairwise overlaps\n",
       "overlaps = overlap_detector.compute_all_overlaps(reads)\n",
       "\n",
       "print(f\"Found {len(overlaps)} overlaps between reads\")\n",
       "\n",
       "# Show some example overlaps\n",
       "if overlaps:\n",
       "    print(\"\\nExample overlaps:\")\n",
       "    for i, ((read_id1, read_id2), (overlap_len, errors)) in enumerate(list(overlaps.items())[:5]):\n",
       "        print(f\"  {read_id1} -> {read_id2}: {overlap_len} bp with {errors} errors\")"
      ]
     },
     {
      "cell_type": "markdown",
      "metadata": {},
      "source": [
       "## 3. Filter Contained Reads and Get Dovetail Overlaps\n",
       "\n",
       "Now we'll filter out contained reads and focus on dovetail overlaps."
      ]
     },
     {
      "cell_type": "code",
      "execution_count": null,
      "metadata": {},
      "source": [
       "# Filter contained reads\n",
       "contained_reads = overlap_detector.filter_contained_reads(reads, overlaps)\n",
       "print(f\"Filtered out {len(contained_reads)} contained reads\")\n",
       "\n",
       "# Get dovetail overlaps\n",
       "dovetail_overlaps = overlap_detector.get_dovetail_overlaps(reads, overlaps, contained_reads)\n",
       "print(f\"Found {len(dovetail_overlaps)} dovetail overlaps\")\n",
       "\n",
       "# Filter reads to exclude contained reads\n",
       "filtered_reads = {read_id: read for read_id, read in reads.items() \n",
       "                 if read_id not in contained_reads}"
      ]
     },
     {
      "cell_type": "markdown",
      "metadata": {},
      "source": [
       "## 4. Build Overlap Graph\n",
       "\n",
       "Let's build the overlap graph from the filtered reads and dovetail overlaps."
      ]
     },
     {
      "cell_type": "code",
      "execution_count": null,
      "metadata": {},
      "source": [
       "# Build overlap graph\n",
       "graph = OverlapGraph()\n",
       "graph.build_from_overlaps(filtered_reads, dovetail_overlaps)\n",
       "\n",
       "print(f\"Graph built with {len(graph.graph.nodes())} nodes and {len(graph.graph.edges())} edges\")\n",
       "\n",
       "# Remove transitive edges\n",
       "graph.remove_transitive_edges()\n",
       "print(f\"After transitive reduction: {len(graph.graph.nodes())} nodes and {len(graph.graph.edges())} edges\")\n",
       "\n",
       "# Visualize the graph (only if it's small enough to render)\n",
       "if len(graph.graph.nodes()) <= 100:  # Don't try to visualize very large graphs\n",
       "    Visualizer.plot_overlap_graph(graph.graph)\n",
       "else:\n",
       "    print(\"Graph too large to visualize directly.\")"
      ]
     },
     {
      "cell_type": "markdown",
      "metadata": {},
      "source": [
       "## 5. Find Paths and Generate Contigs\n",
       "\n",
       "Now we'll find paths through the graph and generate contigs."
      ]
     },
     {
      "cell_type": "code",
      "execution_count": null,
      "metadata": {},
      "source": [
       "# Find non-branching paths\n",
       "paths = graph.find_nonbranching_paths()\n",
       "print(f\"Found {len(paths)} non-branching paths\")\n",
       "\n",
       "# Generate contigs\n",
       "contig_generator = ContigGenerator(filtered_reads, dovetail_overlaps)\n",
       "contigs = contig_generator.generate_contigs(paths)\n",
       "\n",
       "# Filter out short contigs\n",
       "min_length = 100\n",
       "filtered_contigs = contig_generator.filter_contigs(contigs, min_length)\n",
       "\n",
       "print(f\"Generated {len(contigs)} contigs\")\n",
       "print(f\"After filtering (min length {min_length}): {len(filtered_contigs)} contigs\")"
      ]
     },
     {
      "cell_type": "markdown",
      "metadata": {},
      "source": [
       "## 6. Analyze Contig Properties\n",
       "\n",
       "Let's check the properties of our generated contigs."
      ]
     },
     {
      "cell_type": "code",
      "execution_count": null,
      "metadata": {},
      "source": [
       "# Display some basic info about the contigs\n",
       "contig_lengths = [len(contig) for contig in filtered_contigs]\n",
       "\n",
       "print(f\"Longest contig: {max(contig_lengths)} bp\")\n",
       "print(f\"Shortest contig: {min(contig_lengths)} bp\")\n",
       "print(f\"Average contig length: {sum(contig_lengths) / len(contig_lengths):.2f} bp\")\n",
       "\n",
       "# Visualize contig length distribution\n",
       "Visualizer.plot_contig_length_distribution(filtered_contigs)"
      ]
     },
     {
      "cell_type": "markdown",
      "metadata": {},
      "source": [
       "## 7. Calculate Assembly Metrics\n",
       "\n",
       "Now we'll calculate various metrics to evaluate our assembly."
      ]
     },
     {
      "cell_type": "code",
      "execution_count": null,
      "metadata": {},
      "source": [
       "# Calculate assembly metrics\n",
       "metrics = AssemblyMetrics.calculate_basic_metrics(filtered_contigs)\n",
       "\n",
       "# Display metrics in a nice format\n",
       "print(\"Assembly Metrics:\")\n",
       "for metric, value in metrics.items():\n",
       "    print(f\"  {metric}: {value}\")"
      ]
     },
     {
      "cell_type": "markdown",
      "metadata": {},
      "source": [
       "## 8. Visualize a Contig Layout\n",
       "\n",
       "Let's visualize the layout of reads in one of the contigs."
      ]
     },
     {
      "cell_type": "code",
      "execution_count": null,
      "metadata": {},
      "source": [
       "# Generate layout for the first path\n",
       "if paths:\n",
       "    layout_generator = LayoutGenerator(filtered_reads, dovetail_overlaps)\n",
       "    layout = layout_generator.generate_layout(paths[0])\n",
       "    \n",
       "    # Visualize the layout\n",
       "    Visualizer.plot_layout(layout, filtered_reads)\n",
       "else:\n",
       "    print(\"No paths found to visualize layout.\")"
      ]
     },
     {
      "cell_type": "markdown",
      "metadata": {},
      "source": [
       "## 9. Write Contigs to FASTA\n",
       "\n",
       "Finally, let's save our assembly to a FASTA file."
      ]
     },
     {
      "cell_type": "code",
      "execution_count": null,
      "metadata": {},
      "source": [
       "# Write contigs to FASTA file\n",
       "output_file = \"contigs_olc.fasta\"\n",
       "writer = FastaWriter(output_file)\n",
       "writer.write_contigs(filtered_contigs)\n",
       "\n",
       "print(f\"Contigs written to {output_file}\")"
      ]
     },
     {
      "cell_type": "markdown",
      "metadata": {},
      "source": [
       "## 10. Compare with Reference (if available)\n",
       "\n",
       "If we have a reference genome, we can compare our assembly to it."
      ]
     },
     {
      "cell_type": "code",
      "execution_count": null,
      "metadata": {},
      "source": [
       "# Load reference genome if available\n",
       "reference_file = \"path/to/reference_b.fasta\"\n",
       "\n",
       "try:\n",
       "    with open(reference_file, 'r') as f:\n",
       "        # Skip header line\n",
       "        header = f.readline()\n",
       "        # Read reference sequence\n",
       "        reference = ''.join(line.strip() for line in f)\n",
       "        \n",
       "    print(f\"Loaded reference genome: {len(reference)} bp\")\n",
       "    \n",
       "    # Compare assembly to reference\n",
       "    comparison_metrics = AssemblyMetrics.compare_to_reference(filtered_contigs, reference)\n",
       "    \n",
       "    print(\"\\nComparison to Reference:\")\n",
       "    for metric, value in comparison_metrics.items():\n",
       "        print(f\"  {metric}: {value}\")\n",
       "        \n",
       "except FileNotFoundError:\n",
       "    print(f\"Reference file {reference_file} not found. Skipping comparison.\")"
      ]
     },
     {
      "cell_type": "markdown",
      "metadata": {},
      "source": [
       "## 11. Experiment with Different Minimum Overlap Lengths\n",
       "\n",
       "Let's try different minimum overlap lengths and compare the results."
      ]
     },
     {
      "cell_type": "code",
      "execution_count": null,
      "metadata": {},
      "source": [
       "# Function to run assembly with a specific minimum overlap length\n",
       "def assemble_with_min_overlap(reads, min_overlap, max_error_rate=0.05, min_length=100):\n",
       "    # Compute overlaps\n",
       "    overlap_detector = OverlapDetector(min_overlap, max_error_rate)\n",
       "    overlaps = overlap_detector.compute_all_overlaps(reads)\n",
       "    \n",
       "    # Filter contained reads\n",
       "    contained_reads = overlap_detector.filter_contained_reads(reads, overlaps)\n",
       "    dovetail_overlaps = overlap_detector.get_dovetail_overlaps(reads, overlaps, contained_reads)\n",
       "    filtered_reads = {read_id: read for read_id, read in reads.items() \n",
       "                     if read_id not in contained_reads}\n",
       "    \n",
       "    # Build graph\n",
       "    graph = OverlapGraph()\n",
       "    graph.build_from_overlaps(filtered_reads, dovetail_overlaps)\n",
       "    graph.remove_transitive_edges()\n",
       "    \n",
       "    # Find paths and generate contigs\n",
       "    paths = graph.find_nonbranching_paths()\n",
       "    contig_generator = ContigGenerator(filtered_reads, dovetail_overlaps)\n",
       "    contigs = contig_generator.generate_contigs(paths)\n",
       "    filtered_contigs = contig_generator.filter_contigs(contigs, min_length)\n",
       "    \n",
       "    # Calculate metrics\n",
       "    metrics = AssemblyMetrics.calculate_basic_metrics(filtered_contigs)\n",
       "    \n",
       "    return filtered_contigs, metrics\n",
       "\n",
       "# Try different minimum overlap lengths\n",
       "min_overlap_values = [30, 40, 50, 60]\n",
       "results = {}\n",
       "\n",
       "for min_overlap in min_overlap_values:\n",
       "    print(f\"\\nAssembling with min_overlap={min_overlap}...\")\n",
       "    contigs, metrics = assemble_with_min_overlap(reads, min_overlap)\n",
       "    results[min_overlap] = (contigs, metrics)\n",
       "    \n",
       "    print(f\"  Contigs: {metrics['num_contigs']}\")\n",
       "    print(f\"  Total length: {metrics['total_length']} bp\")\n",
       "    print(f\"  N50: {metrics['n50']}\")\n",
       "    \n",
       "    # Write to FASTA\n",
       "    output_file = f\"contigs_olc_overlap{min_overlap}.fasta\"\n",
       "    writer = FastaWriter(output_file)\n",
       "    writer.write_contigs(contigs)\n",
       "    \n",
       "# Compare metrics across different minimum overlap values\n",
       "metrics_list = [results[min_overlap][1] for min_overlap in min_overlap_values]\n",
       "Visualizer.plot_metrics_comparison(metrics_list, [f\"overlap={m}\" for m in min_overlap_values])"
      ]
     },
     {
      "cell_type": "markdown",
      "metadata": {},
      "source": [
       "## 12. Conclusion\n",
       "\n",
       "We've successfully implemented and tested an Overlap-Layout-Consensus assembly algorithm. The results show how different minimum overlap lengths affect the assembly quality, with trade-offs between contig length, number, and accuracy."
      ]
     }
    ],
    "metadata": {
     "kernelspec": {
      "display_name": "Python 3",
      "language": "python",
      "name": "python3"
     },
     "language_info": {
      "codemirror_mode": {
       "name": "ipython",
       "version": 3
      },
      "file_extension": ".py",
      "mimetype": "text/x-python",
      "name": "python",
      "nbconvert_exporter": "python",
      "pygments_lexer": "ipython3",
      "version": "3.8.10"
     }
    },
    "nbformat": 4,
    "nbformat_minor": 4
   }