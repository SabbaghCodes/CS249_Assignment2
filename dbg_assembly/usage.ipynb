{
 "cells": [
  {
   "cell_type": "markdown",
   "metadata": {},
   "source": [
    "# De Bruijn Graph Genome Assembly\n",
    "\n",
    "This notebook demonstrates the usage of the DBG Assembly package for genome assembly from FASTQ files."
   ]
  },
  {
   "cell_type": "code",
   "execution_count": 11,
   "metadata": {},
   "outputs": [],
   "source": [
    "# Import necessary modules\n",
    "import sys\n",
    "import os\n",
    "import matplotlib.pyplot as plt\n",
    "from pathlib import Path\n",
    "\n",
    "# Make sure the package is in the Python path\n",
    "# Change this path to where you've placed the dbg_assembly package\n",
    "sys.path.append('..')\n",
    "\n",
    "# Import modules from the package\n",
    "from dbg_assembly.fastq_parser import FastqParser\n",
    "from dbg_assembly.kmer_generator import KmerGenerator\n",
    "from dbg_assembly.de_bruijn_graph import DeBruijnGraph\n",
    "from dbg_assembly.path_finder import PathFinder\n",
    "from dbg_assembly.contig_generator import ContigGenerator\n",
    "from dbg_assembly.fasta_writer import FastaWriter\n",
    "from dbg_assembly.assembly_metrics import AssemblyMetrics\n",
    "from dbg_assembly.gfa_export import GfaExporter\n",
    "from dbg_assembly.visualize import Visualizer"
   ]
  },
  {
   "cell_type": "markdown",
   "metadata": {},
   "source": [
    "## 1. Load and Parse FASTQ Data\n",
    "\n",
    "Let's start by loading the FASTQ data from one of the synthetic datasets."
   ]
  },
  {
   "cell_type": "code",
   "execution_count": 2,
   "metadata": {},
   "outputs": [
    {
     "name": "stdout",
     "output_type": "stream",
     "text": [
      "Loaded 5000 sequences\n",
      "Example sequence: CCTAAGAAATGGGACGGAATGGCACATTCTCACGGGAACGGGCTGGAAGC...\n"
     ]
    }
   ],
   "source": [
    "# Path to the FASTQ file\n",
    "fastq_file = \"data/toy_dataset/reads_b.fastq\"\n",
    "\n",
    "# Parse the FASTQ file\n",
    "parser = FastqParser(fastq_file)\n",
    "sequences = list(parser.parse())\n",
    "\n",
    "print(f\"Loaded {len(sequences)} sequences\")\n",
    "print(f\"Example sequence: {sequences[0][:50]}...\")"
   ]
  },
  {
   "cell_type": "markdown",
   "metadata": {},
   "source": [
    "## 2. Build De Bruijn Graph\n",
    "\n",
    "Now we'll build a De Bruijn Graph from the sequences with a specific k-mer length."
   ]
  },
  {
   "cell_type": "code",
   "execution_count": 3,
   "metadata": {},
   "outputs": [
    {
     "name": "stdout",
     "output_type": "stream",
     "text": [
      "Graph built with 1002 nodes and 1002 edges\n"
     ]
    }
   ],
   "source": [
    "# Choose a k-mer length\n",
    "k = 40\n",
    "\n",
    "# Create and build the De Bruijn Graph\n",
    "dbg = DeBruijnGraph(k)\n",
    "\n",
    "for seq in sequences:\n",
    "    dbg.add_sequence(seq)\n",
    "\n",
    "print(f\"Graph built with {len(dbg.graph.nodes())} nodes and {len(dbg.graph.edges())} edges\")"
   ]
  },
  {
   "cell_type": "markdown",
   "metadata": {},
   "source": [
    "## 3. Visualize the Graph\n",
    "\n",
    "Let's visualize the graph structure to understand its topology."
   ]
  },
  {
   "cell_type": "code",
   "execution_count": 4,
   "metadata": {},
   "outputs": [
    {
     "name": "stdout",
     "output_type": "stream",
     "text": [
      "Graph too large to visualize directly. Exporting to GFA for Bandage visualization.\n",
      "Graph exported to output_graph.gfa\n"
     ]
    }
   ],
   "source": [
    "# Visualize the graph (only if it's small enough to render)\n",
    "if len(dbg.graph.nodes()) <= 100:  # Don't try to visualize very large graphs\n",
    "    Visualizer.plot_graph(dbg)\n",
    "else:\n",
    "    print(\"Graph too large to visualize directly. Exporting to GFA for Bandage visualization.\")\n",
    "    \n",
    "    # Export to GFA\n",
    "    gfa_file = \"output_graph.gfa\"\n",
    "    exporter = GfaExporter(gfa_file)\n",
    "    exporter.export_graph(dbg)\n",
    "    print(f\"Graph exported to {gfa_file}\")"
   ]
  },
  {
   "cell_type": "markdown",
   "metadata": {},
   "source": [
    "## 4. Find Contigs\n",
    "\n",
    "Now we'll identify contigs by finding non-branching paths in the graph."
   ]
  },
  {
   "cell_type": "code",
   "execution_count": 5,
   "metadata": {},
   "outputs": [
    {
     "name": "stdout",
     "output_type": "stream",
     "text": [
      "Found 4 contig paths\n",
      "Generated 4 contigs\n",
      "After filtering (min length 100): 2 contigs\n"
     ]
    }
   ],
   "source": [
    "# Find contig paths\n",
    "contig_paths = PathFinder.find_contigs(dbg)\n",
    "print(f\"Found {len(contig_paths)} contig paths\")\n",
    "\n",
    "# Generate contig sequences\n",
    "contig_generator = ContigGenerator()\n",
    "contigs = contig_generator.generate_contigs_from_paths(contig_paths, k)\n",
    "\n",
    "# Filter out very short contigs\n",
    "min_length = 100\n",
    "filtered_contigs = contig_generator.filter_contigs(contigs, min_length)\n",
    "\n",
    "print(f\"Generated {len(contigs)} contigs\")\n",
    "print(f\"After filtering (min length {min_length}): {len(filtered_contigs)} contigs\")"
   ]
  },
  {
   "cell_type": "markdown",
   "metadata": {},
   "source": [
    "## 5. Analyze Contig Properties\n",
    "\n",
    "Let's check the properties of our generated contigs."
   ]
  },
  {
   "cell_type": "code",
   "execution_count": 6,
   "metadata": {},
   "outputs": [
    {
     "name": "stdout",
     "output_type": "stream",
     "text": [
      "Longest contig: 668 bp\n",
      "Shortest contig: 330 bp\n",
      "Average contig length: 499.00 bp\n"
     ]
    },
    {
     "data": {
      "image/png": "[encoded data removed]",
      "text/plain": [
       "<Figure size 1000x600 with 1 Axes>"
      ]
     },
     "metadata": {},
     "output_type": "display_data"
    }
   ],
   "source": [
    "# Display some basic info about the contigs\n",
    "contig_lengths = [len(contig) for contig in filtered_contigs]\n",
    "\n",
    "print(f\"Longest contig: {max(contig_lengths)} bp\")\n",
    "print(f\"Shortest contig: {min(contig_lengths)} bp\")\n",
    "print(f\"Average contig length: {sum(contig_lengths) / len(contig_lengths):.2f} bp\")\n",
    "\n",
    "# Visualize contig length distribution\n",
    "Visualizer.plot_contig_length_distribution(filtered_contigs)"
   ]
  },
  {
   "cell_type": "markdown",
   "metadata": {},
   "source": [
    "## 6. Calculate Assembly Metrics\n",
    "\n",
    "Now we'll calculate various metrics to evaluate our assembly."
   ]
  },
  {
   "cell_type": "code",
   "execution_count": 7,
   "metadata": {},
   "outputs": [
    {
     "name": "stdout",
     "output_type": "stream",
     "text": [
      "Assembly Metrics:\n",
      "  total_length: 998\n",
      "  num_contigs: 2\n",
      "  mean_length: 499.0\n",
      "  median_length: 499.0\n",
      "  max_length: 668\n",
      "  min_length: 330\n",
      "  n50: 668\n",
      "  n90: 330\n",
      "  l50: 1\n",
      "  gc_content: 0.5200400801603207\n"
     ]
    }
   ],
   "source": [
    "# Calculate assembly metrics\n",
    "metrics = AssemblyMetrics.calculate_basic_metrics(filtered_contigs)\n",
    "\n",
    "# Display metrics in a nice format\n",
    "print(\"Assembly Metrics:\")\n",
    "for metric, value in metrics.items():\n",
    "    print(f\"  {metric}: {value}\")"
   ]
  },
  {
   "cell_type": "markdown",
   "metadata": {},
   "source": [
    "## 7. Write Contigs to FASTA\n",
    "\n",
    "Finally, let's save our assembly to a FASTA file."
   ]
  },
  {
   "cell_type": "code",
   "execution_count": 8,
   "metadata": {},
   "outputs": [
    {
     "name": "stdout",
     "output_type": "stream",
     "text": [
      "Contigs written to contigs_k40.fasta\n"
     ]
    }
   ],
   "source": [
    "# Write contigs to FASTA file\n",
    "output_file = \"contigs_k40.fasta\"\n",
    "writer = FastaWriter(output_file)\n",
    "writer.write_contigs(filtered_contigs)\n",
    "\n",
    "print(f\"Contigs written to {output_file}\")"
   ]
  },
  {
   "cell_type": "markdown",
   "metadata": {},
   "source": [
    "## 8. Compare with Reference (if available)\n",
    "\n",
    "If we have a reference genome, we can compare our assembly to it."
   ]
  },
  {
   "cell_type": "code",
   "execution_count": 9,
   "metadata": {},
   "outputs": [
    {
     "name": "stdout",
     "output_type": "stream",
     "text": [
      "Loaded reference genome: 1000 bp\n",
      "\n",
      "Comparison to Reference:\n",
      "  reference_length: 1000\n",
      "  kmer_recall: 0.9670103092783505\n",
      "  estimated_genome_fraction: 0.9670103092783505\n"
     ]
    }
   ],
   "source": [
    "# Load reference genome if available\n",
    "reference_file = \"data/toy_dataset/reference_b.fasta\"\n",
    "\n",
    "try:\n",
    "    with open(reference_file, 'r') as f:\n",
    "        # Skip header line\n",
    "        header = f.readline()\n",
    "        # Read reference sequence\n",
    "        reference = ''.join(line.strip() for line in f)\n",
    "        \n",
    "    print(f\"Loaded reference genome: {len(reference)} bp\")\n",
    "    \n",
    "    # Compare assembly to reference\n",
    "    comparison_metrics = AssemblyMetrics.compare_to_reference(filtered_contigs, reference)\n",
    "    \n",
    "    print(\"\\nComparison to Reference:\")\n",
    "    for metric, value in comparison_metrics.items():\n",
    "        print(f\"  {metric}: {value}\")\n",
    "        \n",
    "except FileNotFoundError:\n",
    "    print(f\"Reference file {reference_file} not found. Skipping comparison.\")"
   ]
  },
  {
   "cell_type": "markdown",
   "metadata": {},
   "source": [
    "## 9. Experiment with Different k-mer Sizes\n",
    "\n",
    "Let's try different k-mer sizes and compare the results."
   ]
  },
  {
   "cell_type": "code",
   "execution_count": 10,
   "metadata": {},
   "outputs": [
    {
     "name": "stdout",
     "output_type": "stream",
     "text": [
      "\n",
      "Assembling with k=35...\n",
      "  Contigs: 2\n",
      "  Total length: 998 bp\n",
      "  N50: 668\n",
      "\n",
      "Assembling with k=40...\n",
      "  Contigs: 2\n",
      "  Total length: 998 bp\n",
      "  N50: 668\n",
      "\n",
      "Assembling with k=45...\n",
      "  Contigs: 2\n",
      "  Total length: 998 bp\n",
      "  N50: 668\n",
      "\n",
      "Assembling with k=50...\n",
      "  Contigs: 2\n",
      "  Total length: 1049 bp\n",
      "  N50: 719\n"
     ]
    },
    {
     "data": {
      "image/png": "[encoded data removed]",
      "text/plain": [
       "<Figure size 1200x800 with 5 Axes>"
      ]
     },
     "metadata": {},
     "output_type": "display_data"
    }
   ],
   "source": [
    "# Function to run assembly with a specific k-mer size\n",
    "def assemble_with_k(sequences, k, min_length=100):\n",
    "    # Build graph\n",
    "    dbg = DeBruijnGraph(k)\n",
    "    for seq in sequences:\n",
    "        dbg.add_sequence(seq)\n",
    "    \n",
    "    # Find contigs\n",
    "    contig_paths = PathFinder.find_contigs(dbg)\n",
    "    contig_generator = ContigGenerator()\n",
    "    contigs = contig_generator.generate_contigs_from_paths(contig_paths, k)\n",
    "    filtered_contigs = contig_generator.filter_contigs(contigs, min_length)\n",
    "    \n",
    "    # Calculate metrics\n",
    "    metrics = AssemblyMetrics.calculate_basic_metrics(filtered_contigs)\n",
    "    \n",
    "    return filtered_contigs, metrics\n",
    "\n",
    "# Try different k-mer sizes\n",
    "k_values = [35, 40, 45, 50]\n",
    "results = {}\n",
    "\n",
    "for k in k_values:\n",
    "    print(f\"\\nAssembling with k={k}...\")\n",
    "    contigs, metrics = assemble_with_k(sequences, k)\n",
    "    results[k] = (contigs, metrics)\n",
    "    \n",
    "    print(f\"  Contigs: {metrics['num_contigs']}\")\n",
    "    print(f\"  Total length: {metrics['total_length']} bp\")\n",
    "    print(f\"  N50: {metrics['n50']}\")\n",
    "    \n",
    "    # Write to FASTA\n",
    "    output_file = f\"contigs_k{k}.fasta\"\n",
    "    writer = FastaWriter(output_file)\n",
    "    writer.write_contigs(contigs)\n",
    "    \n",
    "# Compare metrics across different k-values\n",
    "metrics_list = [results[k][1] for k in k_values]\n",
    "Visualizer.plot_metrics_comparison(metrics_list, [f\"k={k}\" for k in k_values])"
   ]
  },
  {
   "cell_type": "markdown",
   "metadata": {},
   "source": [
    "## 10. Conclusion\n",
    "\n",
    "We've successfully implemented and tested a De Bruijn Graph assembly algorithm. The results show how different k-mer sizes affect the assembly quality, with trade-offs between contig length, number, and accuracy."
   ]
  },
  {
   "cell_type": "code",
   "execution_count": 13,
   "metadata": {},
   "outputs": [],
   "source": [
    "# import os; os.chdir('dbg_assembly'); sys.path.append('..')"
   ]
  },
  {
   "cell_type": "code",
   "execution_count": 16,
   "metadata": {},
   "outputs": [
    {
     "name": "stdout",
     "output_type": "stream",
     "text": [
      "/home/sabbam0a/.local/lib/python3.9/site-packages/networkx/utils/backends.py:135: RuntimeWarning: networkx backend defined more than once: nx-loopback\n",
      "  backends.update(_get_backends(\"networkx.backends\"))\n",
      "Starting De Bruijn Graph assembly with k=40\n",
      "Reading sequences from ../data/toy_dataset/reads_b.fastq...\n",
      "Read 5000 sequences\n",
      "Building De Bruijn Graph...\n",
      "De Bruijn Graph built with 1002 nodes and 1002 edges\n",
      "Finding contigs...\n",
      "Found 4 contig paths\n",
      "Generating contig sequences...\n",
      "Writing 4 contigs to results/toy_b_k40.fasta...\n",
      "Exporting graph to GFA format: results/toy_b_k40.gfa\n",
      "Calculating assembly metrics...\n",
      "\n",
      "Assembly Metrics:\n",
      "  total_length: 1158\n",
      "  num_contigs: 4\n",
      "  mean_length: 289.5\n",
      "  median_length: 205.0\n",
      "  max_length: 668\n",
      "  min_length: 80\n",
      "  n50: 668\n",
      "  n90: 80\n",
      "  l50: 1\n",
      "  gc_content: 0.5259067357512953\n"
     ]
    }
   ],
   "source": [
    "# Process reads_b.fastq with k=40, generate contigs and export graph\n",
    "!python main.py --fastq ../data/toy_dataset/reads_b.fastq --kmer 40 --output results/toy_b_k40.fasta --gfa results/toy_b_k40.gfa --verbose"
   ]
  },
  {
   "cell_type": "code",
   "execution_count": 17,
   "metadata": {},
   "outputs": [
    {
     "name": "stdout",
     "output_type": "stream",
     "text": [
      "/home/sabbam0a/.local/lib/python3.9/site-packages/networkx/utils/backends.py:135: RuntimeWarning: networkx backend defined more than once: nx-loopback\n",
      "  backends.update(_get_backends(\"networkx.backends\"))\n",
      "Starting De Bruijn Graph assembly with k=35\n",
      "Reading sequences from ../data/toy_dataset/reads_b.fastq...\n",
      "Read 5000 sequences\n",
      "Building De Bruijn Graph...\n",
      "De Bruijn Graph built with 1002 nodes and 1002 edges\n",
      "Finding contigs...\n",
      "Found 4 contig paths\n",
      "Generating contig sequences...\n",
      "Writing 4 contigs to results/toy_r_k35.fasta...\n",
      "Calculating assembly metrics...\n",
      "\n",
      "Assembly Metrics:\n",
      "  total_length: 1138\n",
      "  num_contigs: 4\n",
      "  mean_length: 284.5\n",
      "  median_length: 200.0\n",
      "  max_length: 668\n",
      "  min_length: 70\n",
      "  n50: 668\n",
      "  n90: 70\n",
      "  l50: 1\n",
      "  gc_content: 0.5246045694200352\n"
     ]
    }
   ],
   "source": [
    "# Process reads_r.fastq with k=35 \n",
    "!python main.py --fastq ../data/toy_dataset/reads_b.fastq --kmer 35 --output results/toy_r_k35.fasta --verbose"
   ]
  },
  {
   "cell_type": "code",
   "execution_count": 18,
   "metadata": {},
   "outputs": [
    {
     "name": "stdout",
     "output_type": "stream",
     "text": [
      "/home/sabbam0a/.local/lib/python3.9/site-packages/networkx/utils/backends.py:135: RuntimeWarning: networkx backend defined more than once: nx-loopback\n",
      "  backends.update(_get_backends(\"networkx.backends\"))\n",
      "Starting De Bruijn Graph assembly with k=45\n",
      "Reading sequences from ../data/toy_dataset/reads_b.fastq...\n",
      "Read 5000 sequences\n",
      "Building De Bruijn Graph...\n",
      "De Bruijn Graph built with 1002 nodes and 1002 edges\n",
      "Finding contigs...\n",
      "Found 4 contig paths\n",
      "Generating contig sequences...\n",
      "Writing 4 contigs to results/toy_r_k45.fasta...\n",
      "Calculating assembly metrics...\n",
      "\n",
      "Assembly Metrics:\n",
      "  total_length: 1178\n",
      "  num_contigs: 4\n",
      "  mean_length: 294.5\n",
      "  median_length: 210.0\n",
      "  max_length: 668\n",
      "  min_length: 90\n",
      "  n50: 668\n",
      "  n90: 90\n",
      "  l50: 1\n",
      "  gc_content: 0.5220713073005093\n"
     ]
    }
   ],
   "source": [
    "# Process reads_r.fastq with k=45\n",
    "!python main.py --fastq ../data/toy_dataset/reads_b.fastq --kmer 45 --output results/toy_r_k45.fasta --verbose"
   ]
  },
  {
   "cell_type": "code",
   "execution_count": null,
   "metadata": {},
   "outputs": [],
   "source": []
  }
 ],
 "metadata": {
  "kernelspec": {
   "display_name": "Python [conda env:scGPT] *",
   "language": "python",
   "name": "conda-env-scGPT-py"
  }
 },
 "nbformat": 4,
 "nbformat_minor": 4
}
